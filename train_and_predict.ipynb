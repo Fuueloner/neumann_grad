{
 "cells": [
  {
   "cell_type": "code",
   "execution_count": 2,
   "metadata": {},
   "outputs": [],
   "source": [
    "import pandas as pd\n",
    "import numpy as np"
   ]
  },
  {
   "cell_type": "code",
   "execution_count": 9,
   "metadata": {},
   "outputs": [],
   "source": [
    "train = pd.read_csv('out_data/result.csv')\n",
    "\n",
    "test = train.sample(4)\n",
    "\n",
    "test['type'] = 'test'\n",
    "train['type'] = 'train'\n",
    "\n",
    "df = pd.concat([train, test], ignore_index=True)"
   ]
  },
  {
   "cell_type": "code",
   "execution_count": 10,
   "metadata": {},
   "outputs": [],
   "source": [
    "# В этой ячейке можно добавлять новые фичи и всячески предобрабатывать объединённый датасет."
   ]
  },
  {
   "cell_type": "code",
   "execution_count": 11,
   "metadata": {},
   "outputs": [],
   "source": [
    "# Разбиваем данные на train и test\n",
    "train_df = df[df['type'] == 'train'].copy().dropna().reset_index(drop=True)\n",
    "test_df = df[df['type'] == 'test'].copy().reset_index(drop=True)\n",
    "train_df = train_df.sort_values(['id'])\n",
    "test_df = test_df.sort_values(['id'])"
   ]
  },
  {
   "cell_type": "code",
   "execution_count": 12,
   "metadata": {},
   "outputs": [],
   "source": [
    "from sklearn.metrics import mean_absolute_error, mean_squared_error\n",
    "\n",
    "from typing import Tuple\n",
    "\n",
    "def metric_mape(y_valid: list, val_pred: list) -> float:\n",
    "    \"\"\"\n",
    "    Calculate MAPE metric\n",
    "\n",
    "    :param y_valid: list, real values\n",
    "    :param val_pred: list, predicted values\n",
    "    :return: float, MAPE metric\n",
    "    \"\"\"\n",
    "    y_valid = np.array(y_valid).reshape(-1)\n",
    "    val_pred = np.array(val_pred)\n",
    "    return np.sum(np.abs(y_valid - val_pred)) / np.sum(y_valid) * 100\n",
    "\n",
    "\n",
    "def calculate_metrics(df: pd.DataFrame,\n",
    "                      forecast_name='forecast') -> Tuple[float, float, float,\n",
    "                                                    float, float, float]:\n",
    "    \"\"\"\n",
    "    Calculate metrics\n",
    "\n",
    "    :param df: pd.DataFrame, result dataframe\n",
    "    :return:\n",
    "    \"\"\"\n",
    "    y_true = df.alpha\n",
    "    y_pr = df[forecast_name]\n",
    "\n",
    "    mae = mean_absolute_error(y_true, y_pr)\n",
    "    mse = mean_squared_error(y_true, y_pr)\n",
    "\n",
    "    mape = metric_mape(y_true, y_pr)\n",
    "\n",
    "    print(f\"MAE: {mae:.2f}\\n\"\n",
    "          f\"MSE: {mse:.2f}\\n\"\n",
    "          f\"MAPE: {mape:.2f} %\\n\")"
   ]
  },
  {
   "cell_type": "code",
   "execution_count": 13,
   "metadata": {},
   "outputs": [],
   "source": [
    "from sklearn.preprocessing import StandardScaler"
   ]
  },
  {
   "cell_type": "code",
   "execution_count": 14,
   "metadata": {},
   "outputs": [],
   "source": [
    "# числовые фичи\n",
    "num_features = ['b', 'd', 'dd', 'sigma_m', 'sigma_w']\n",
    "# категориальные фичи\n",
    "cat_features = []\n",
    "\n",
    "# таргеты\n",
    "alpha_train = train_df.alpha\n",
    "alpha_test = test_df.alpha\n",
    "beta_train = train_df.beta\n",
    "beta_test = test_df.beta\n",
    "gamma_train = train_df.gamma\n",
    "gamma_test = test_df.gamma\n",
    "\n",
    "# категориальные фичи\n",
    "X_train_cat = train_df[cat_features].values\n",
    "X_test_cat = test_df[cat_features].values\n",
    "\n",
    "# скалируем числовые фичи\n",
    "X_train_num = train_df[num_features].copy()\n",
    "X_test_num = test_df[num_features].copy()\n",
    "scaler = StandardScaler()\n",
    "X_train_num = scaler.fit_transform(X_train_num)\n",
    "X_test_num = scaler.transform(X_test_num)\n",
    "\n",
    "# итоговые датасеты для обучения\n",
    "X_train = np.hstack((X_train_cat, X_train_num))\n",
    "X_test = np.hstack((X_test_cat, X_test_num))"
   ]
  },
  {
   "cell_type": "code",
   "execution_count": 15,
   "metadata": {},
   "outputs": [],
   "source": [
    "# from sklearn.model_selection import GridSearchCV, TimeSeriesSplit, cross_val_score\n",
    "from sklearn.linear_model import LinearRegression"
   ]
  },
  {
   "cell_type": "code",
   "execution_count": 16,
   "metadata": {},
   "outputs": [],
   "source": [
    "# Обучаем линейную регрессию\n",
    "model = LinearRegression()\n",
    "model.fit(X_train, alpha_train)\n",
    "forecast = model.predict(X_test)\n",
    "test_df['prediction'] = forecast\n",
    "\n",
    "test_df['prediction'] = test_df['prediction'].apply(lambda x: 0 if x < 0 else x)"
   ]
  },
  {
   "cell_type": "code",
   "execution_count": 17,
   "metadata": {},
   "outputs": [],
   "source": [
    "test_df[['id', 'prediction']].sort_values(['id']).to_csv('prediction.csv', index=False)"
   ]
  },
  {
   "cell_type": "code",
   "execution_count": 18,
   "metadata": {},
   "outputs": [
    {
     "name": "stdout",
     "output_type": "stream",
     "text": [
      "MAE: 0.12\n",
      "MSE: 0.02\n",
      "MAPE: 4.37 %\n",
      "\n"
     ]
    }
   ],
   "source": [
    "calculate_metrics(test_df, forecast_name='prediction')"
   ]
  }
 ],
 "metadata": {
  "interpreter": {
   "hash": "75b6d2261c9401b1f65bfd6c99b23a225ab3ae64b0365ebca2400204f39e1811"
  },
  "kernelspec": {
   "display_name": "Python 3.9.13 64-bit",
   "language": "python",
   "name": "python3"
  },
  "language_info": {
   "codemirror_mode": {
    "name": "ipython",
    "version": 3
   },
   "file_extension": ".py",
   "mimetype": "text/x-python",
   "name": "python",
   "nbconvert_exporter": "python",
   "pygments_lexer": "ipython3",
   "version": "3.9.13"
  },
  "orig_nbformat": 4
 },
 "nbformat": 4,
 "nbformat_minor": 2
}
