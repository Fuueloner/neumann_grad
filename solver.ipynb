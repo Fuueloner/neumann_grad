{
 "cells": [
  {
   "cell_type": "code",
   "execution_count": 1,
   "id": "present-taiwan",
   "metadata": {},
   "outputs": [
    {
     "data": {
      "text/plain": [
       "' import torch\\nfrom torch import tensor\\nfrom fft_conv import fft_conv\\n\\nstep = 5\\n\\na = tensor([1, 2, 3, 4], dtype=torch.float64)\\nb = tensor([1, 1, 0, 1], dtype=torch.float64)\\nw = tensor([step] * len(a), dtype=torch.float64)\\nw[0], w[-1] = step * 0.5, step * 0.5\\n\\n(w * b) @ a '"
      ]
     },
     "execution_count": 1,
     "metadata": {},
     "output_type": "execute_result"
    }
   ],
   "source": [
    "\"\"\" import torch\n",
    "from torch import tensor\n",
    "from fft_conv import fft_conv\n",
    "\n",
    "step = 5\n",
    "\n",
    "a = tensor([1, 2, 3, 4], dtype=torch.float64)\n",
    "b = tensor([1, 1, 0, 1], dtype=torch.float64)\n",
    "w = tensor([step] * len(a), dtype=torch.float64)\n",
    "w[0], w[-1] = step * 0.5, step * 0.5\n",
    "\n",
    "(w * b) @ a \"\"\""
   ]
  },
  {
   "cell_type": "code",
   "execution_count": 2,
   "id": "adult-horizontal",
   "metadata": {},
   "outputs": [
    {
     "data": {
      "text/plain": [
       "' import matplotlib.pyplot as plt\\nimport numpy as np\\nfrom scipy.integrate import simpson\\nfrom fft_conv import fft_conv\\nimport torch\\nimport torch.nn.functional as f '"
      ]
     },
     "execution_count": 2,
     "metadata": {},
     "output_type": "execute_result"
    }
   ],
   "source": [
    "\"\"\" import matplotlib.pyplot as plt\n",
    "import numpy as np\n",
    "from scipy.integrate import simpson\n",
    "from fft_conv import fft_conv\n",
    "import torch\n",
    "import torch.nn.functional as f \"\"\""
   ]
  },
  {
   "cell_type": "code",
   "execution_count": 2,
   "id": "black-surveillance",
   "metadata": {},
   "outputs": [],
   "source": [
    "import numpy as np\n",
    "import scipy\n",
    "import torch\n",
    "from torch import Tensor\n",
    "import torch.nn.functional as f\n",
    "from fft_conv import fft_conv\n",
    "from scipy.stats import norm\n",
    "\n",
    "def vector_norm(vector):\n",
    "  return torch.norm(vector)**2\n",
    "\n",
    "\n",
    "def l1_norm(start_point, end_point, array):\n",
    "  nodes = np.linspace(start_point, end_point, len(array))\n",
    "  return scipy.integrate.trapz(torch.abs(array).clone().detach().numpy(), nodes)\n",
    "\n",
    "\n",
    "class Neumann:\n",
    "    EPS = 1e-12\n",
    "\n",
    "    def _calc_step(self):\n",
    "        sqrt2pi = (2 * np.pi) ** 0.5\n",
    "        logm = np.log(self.EPS * self.sm * sqrt2pi)\n",
    "        logw = np.log(self.EPS * self.sw * sqrt2pi)\n",
    "\n",
    "        if logm > 0 or logw > 0:\n",
    "            t = 1\n",
    "        else:\n",
    "            xm = np.sqrt(-2 * (self.sm ** 2) * logm)\n",
    "            xw = np.sqrt(-2 * (self.sw ** 2) * logw)\n",
    "            t = max(xm, xw)\n",
    "\n",
    "        return t / len(self.GT)\n",
    "    \n",
    "    def _calc_disribution(self, sigma):\n",
    "        lspace = np.linspace(0, self.r, len(self.GT))\n",
    "        return torch.tensor(scipy.stats.norm.pdf(lspace, scale=sigma))\n",
    "    \n",
    "    def __init__(self, GT, sm, sw, b, d, s, x0, r=15, n_iters=15):\n",
    "        # save params\n",
    "        self.n_iters = n_iters\n",
    "        self.r = r\n",
    "        \n",
    "        self.b = b\n",
    "        self.d = d\n",
    "        self.s = s\n",
    "        self.sm = sm\n",
    "        self.sw = sw\n",
    "        \n",
    "        self.GT = torch.from_numpy(GT)\n",
    "        \n",
    "        # init m, w\n",
    "        self.m = self._calc_disribution(sm) * self.b\n",
    "        self.w = self._calc_disribution(sw) * self.s\n",
    "        \n",
    "        # step\n",
    "        self.step = self._calc_step()\n",
    "        \n",
    "        #parameters to optimize\n",
    "        self.x = torch.tensor(x0, requires_grad=True)\n",
    "        \n",
    "        self.lr = 0.1\n",
    "        \n",
    "        \n",
    "    def _scalar_product(self, f: Tensor, g: Tensor) -> Tensor:\n",
    "        w = torch.tensor([self.step] * len(self.GT), dtype=torch.double)\n",
    "        w[0], w[-1] = [self.step * 0.5] * 2\n",
    "        return 2 * f @ (w * g)\n",
    "    \n",
    "    def _get_convolutions(self, signal: Tensor, kernel: Tensor) -> Tensor:\n",
    "        f = torch.reshape(signal, [1, 1, signal.size(-1)])\n",
    "        g = torch.reshape(kernel, [1, 1, kernel.size(-1)])\n",
    "        window_start = (f.size(-1)+1) // 2\n",
    "        res = fft_conv(f, g, padding=f.size(-1) - 1)[..., window_start:window_start + f.size(-1)]\n",
    "        res = torch.reshape(res, [f.size(-1)])\n",
    "        return res * self.step / f.size(-1)\n",
    "        \n",
    "    def _convolve(self, C: Tensor) -> (Tensor, Tensor, Tensor):\n",
    "        mC = self._get_convolutions(C, self.m)\n",
    "        wC = self._get_convolutions(C, self.w)\n",
    "        CwC = self._get_convolutions(C, self.w*C)\n",
    "        return mC, wC, CwC\n",
    "\n",
    "    def _neumann_iteration(self, N: Tensor, C: Tensor) -> (Tensor, Tensor):\n",
    "        Y = self._scalar_product(C, self.w)\n",
    "        N = (self.b - self.d) / (Y + self.s)\n",
    "        mC, wC, CwC = self._convolve(C)\n",
    "        C = (self.m / N - self.w + mC - N / (self.x[0] + self.x[2]) * (wC * (self.x[1] * (C + 1) + self.x[2]) + CwC * self.x[2])) / \\\n",
    "            (self.d + self.w + (self.x[0] * (self.b - self.d) + self.x[1] * self.s * N) / (self.x[0] + self.x[2]))\n",
    "        return N, C\n",
    "    def method(self) -> (Tensor, Tensor, Tensor, Tensor):\n",
    "        C = self.w.clone().detach()\n",
    "        N = torch.tensor([1.], requires_grad=False, dtype=torch.double)\n",
    "        for i in range(self.n_iters):\n",
    "            N, C = self._neumann_iteration(N, C)\n",
    "        C += 1\n",
    "        Q = vector_norm(C - self.GT)\n",
    "        l1_norm_value = l1_norm(0., self.r, C - self.GT)\n",
    "        return N, C, Q, self.x, l1_norm_value\n",
    "    def proj_grad(self) -> Tensor:\n",
    "        t = torch.ones(len(self.x), dtype=torch.double, requires_grad=False)\n",
    "        norms = []\n",
    "        for i in range(500):\n",
    "            N, C, Q, x, l1_norm_value = self.method()\n",
    "            Q.backward()\n",
    "            with torch.no_grad():\n",
    "                x -= self.lr * self.x.grad / torch.norm(self.x.grad)\n",
    "                self.x.grad = None\n",
    "            self.x = (x + (1 - x @ t) / 3 * t).clone().detach().requires_grad_(True)\n",
    "            norms.append(Q.detach().numpy())\n",
    "        N, C, Q, x, l1_norm_value = self.method()\n",
    "        return self.x, norms, N, C, l1_norm_value\n",
    "        "
   ]
  },
  {
   "cell_type": "code",
   "execution_count": 3,
   "id": "blank-tuesday",
   "metadata": {},
   "outputs": [],
   "source": [
    "import pandas as pd\n",
    "\n",
    "# Reading initial data from .csv-files...\n",
    "count_of_data_frames = 1\n",
    "\n",
    "sims = [pd.read_csv(f'./in_data/simulations_results/pcf/{i}.csv').fillna(method='bfill') for i in range(1, count_of_data_frames + 1)]\n",
    "initial_parameters = [pd.read_csv(f'./in_data/simulations_results/initial_parameters/{i}.csv').fillna(method='bfill') for i in range(1, count_of_data_frames + 1)]\n",
    "# This value is from R source code with simulations.\n",
    "sm_temp = 0.96\n",
    "# This value is from R source code with simulations.\n",
    "sw_temp = 0.09\n",
    "b = [initial_parameters[i]['b'] for i in range(0, count_of_data_frames)]\n",
    "d = [initial_parameters[i]['d'] for i in range(0, count_of_data_frames)]\n",
    "dds = np.array([initial_parameters[i]['dd'] for i in range(0, count_of_data_frames)])\n",
    "# This is start value for running the optimization method and it may vary.\n",
    "x0 = np.array([1.0, 1.0, -3.0])"
   ]
  },
  {
   "cell_type": "code",
   "execution_count": 4,
   "id": "critical-opera",
   "metadata": {},
   "outputs": [],
   "source": [
    "solver_list = list()\n",
    "\n",
    "for i in range(0, count_of_data_frames):\n",
    "  solver_list.append(Neumann(np.array(sims[i]['pcf']), sm_temp, sw_temp, np.array(b[i])[0], np.array(d[i])[0], dds[i][0], x0, list(sims[i]['r'])[-1]))"
   ]
  },
  {
   "cell_type": "code",
   "execution_count": 5,
   "id": "short-vietnamese",
   "metadata": {},
   "outputs": [],
   "source": [
    "n_list = list()\n",
    "c_list = list()\n",
    "q_list = list()\n",
    "initial_x_list = list()\n",
    "for solver in solver_list:\n",
    "  N, C, Q, initial_x, norm = solver.method()\n",
    "  n_list.append(N)\n",
    "  c_list.append(C)\n",
    "  q_list.append(norm)\n",
    "  initial_x_list.append(initial_x)"
   ]
  },
  {
   "cell_type": "code",
   "execution_count": 7,
   "id": "centered-fabric",
   "metadata": {},
   "outputs": [],
   "source": [
    "#from torchviz import make_dot\n",
    "#graph = [make_dot(Q, params={'x': solver.x}) for solver in solver_list]"
   ]
  },
  {
   "cell_type": "code",
   "execution_count": 8,
   "id": "referenced-baseball",
   "metadata": {},
   "outputs": [],
   "source": [
    "# This is so long operation which draws all computational graph. Do it only if you really need.\n",
    "#graph.view()"
   ]
  },
  {
   "cell_type": "code",
   "execution_count": 6,
   "id": "amateur-generation",
   "metadata": {},
   "outputs": [
    {
     "data": {
      "text/plain": [
       "[<matplotlib.lines.Line2D at 0x1a57a1dd7c0>]"
      ]
     },
     "execution_count": 6,
     "metadata": {},
     "output_type": "execute_result"
    },
    {
     "data": {
      "image/png": "[encoded data removed]",
      "text/plain": [
       "<Figure size 432x288 with 1 Axes>"
      ]
     },
     "metadata": {
      "needs_background": "light"
     },
     "output_type": "display_data"
    }
   ],
   "source": [
    "import matplotlib.pyplot as plt\n",
    "\n",
    "index_of_data_set = 0\n",
    "plt.plot(np.linspace(0., 10., len(c_list[index_of_data_set])), c_list[index_of_data_set].detach().numpy())\n",
    "plt.plot(np.linspace(0., 10., len(sims[index_of_data_set]['pcf'])), sims[index_of_data_set]['pcf'])\n"
   ]
  },
  {
   "cell_type": "code",
   "execution_count": 8,
   "id": "comprehensive-referral",
   "metadata": {},
   "outputs": [
    {
     "name": "stdout",
     "output_type": "stream",
     "text": [
      "Q:20.570641128749102, current x:tensor([ 2.3899, -2.1761,  0.7862], dtype=torch.float64, requires_grad=True)\n",
      "2.570069773075934\n",
      "-2.3928906973240927\n",
      "0.8228209242481587\n",
      "Q:23.39748361979417, current x:tensor([ 1.6939,  1.6531, -2.3469], dtype=torch.float64, requires_grad=True)\n",
      "2.66612330388528\n",
      "-1.9336792176715574\n",
      "0.2675559137862777\n",
      "Q:30.878741653899997, current x:tensor([ 1.6939,  1.6531, -2.3469], dtype=torch.float64, requires_grad=True)\n",
      "2.7469797385290518\n",
      "-1.4504981846928526\n",
      "-0.2964815538361992\n",
      "Q:46.49326724974703, current x:tensor([ 1.6939,  1.6531, -2.3469], dtype=torch.float64, requires_grad=True)\n",
      "2.8221602324794386\n",
      "-1.556746613092324\n",
      "-0.26541361938711433\n",
      "Q:67.7038926555363, current x:tensor([ 1.6938,  1.6531, -2.3469], dtype=torch.float64, requires_grad=True)\n",
      "2.529725836768402\n",
      "-1.8132429469832771\n",
      "0.2835171102148748\n",
      "Q:21.671204720879977, current x:tensor([ 1.6939,  1.6531, -2.3469], dtype=torch.float64, requires_grad=True)\n",
      "2.16743458821911\n",
      "-2.2543304333868366\n",
      "1.0868958451677264\n",
      "Q:23.79803594165326, current x:tensor([ 1.6939,  1.6531, -2.3469], dtype=torch.float64, requires_grad=True)\n",
      "2.5473639720107397\n",
      "-1.885382817818725\n",
      "0.3380188458079852\n",
      "Q:27.288528283507734, current x:tensor([ 1.6938,  1.6531, -2.3469], dtype=torch.float64, requires_grad=True)\n",
      "2.979608126689453\n",
      "-1.6154605516303064\n",
      "-0.36414757505914674\n",
      "Q:47.81417045120297, current x:tensor([ 1.6938,  1.6531, -2.3469], dtype=torch.float64, requires_grad=True)\n",
      "2.478641182669293\n",
      "-1.7369112716560047\n",
      "0.2582700889867115\n",
      "Q:64.0728716381919, current x:tensor([ 1.6938,  1.6531, -2.3469], dtype=torch.float64, requires_grad=True)\n",
      "2.740037752080431\n",
      "-1.8784473564459008\n",
      "0.1384096043654698\n",
      "Q:19.68693291178677, current x:tensor([ 1.6939,  1.6531, -2.3469], dtype=torch.float64, requires_grad=True)\n",
      "1.8964496643335886\n",
      "-2.28793130418753\n",
      "1.3914816398539416\n",
      "Q:27.794216153635478, current x:tensor([ 1.6939,  1.6531, -2.3469], dtype=torch.float64, requires_grad=True)\n",
      "2.3390241391812525\n",
      "-1.9589062835720927\n",
      "0.6198821443908403\n",
      "Q:46.707816049175776, current x:tensor([ 1.6938,  1.6531, -2.3469], dtype=torch.float64, requires_grad=True)\n",
      "2.265863327105949\n",
      "-2.11091317845913\n",
      "0.8450498513531816\n",
      "Q:59.97144056410428, current x:tensor([ 1.6938,  1.6532, -2.3469], dtype=torch.float64, requires_grad=True)\n",
      "2.2048235691377913\n",
      "-2.071001727837408\n",
      "0.8661781586996167\n",
      "Q:95.4827839647556, current x:tensor([ 1.6938,  1.6532, -2.3469], dtype=torch.float64, requires_grad=True)\n",
      "2.592258450548781\n",
      "-1.6759169035122412\n",
      "0.0836584529634602\n",
      "Q:19.218206824453357, current x:tensor([ 1.6939,  1.6530, -2.3469], dtype=torch.float64, requires_grad=True)\n",
      "1.4140682405612945\n",
      "-2.201194960047416\n",
      "1.7871267194861213\n",
      "Q:27.33965706858432, current x:tensor([ 1.6938,  1.6531, -2.3469], dtype=torch.float64, requires_grad=True)\n",
      "2.1788109838910428\n",
      "1.1290439993126922\n",
      "-2.307854983203735\n",
      "Q:50.5118705135508, current x:tensor([ 1.6938,  1.6532, -2.3469], dtype=torch.float64, requires_grad=True)\n",
      "1.9657065685137909\n",
      "-2.197291830519469\n",
      "1.2315852620056782\n",
      "Q:78.73048987831757, current x:tensor([ 1.6937,  1.6533, -2.3470], dtype=torch.float64, requires_grad=True)\n",
      "1.6779052777513916\n",
      "-2.417905981196902\n",
      "1.7400007034455105\n",
      "Q:128.25037400963691, current x:tensor([ 1.6936,  1.6533, -2.3470], dtype=torch.float64, requires_grad=True)\n",
      "1.6668772076039229\n",
      "-2.417203516990776\n",
      "1.750326309386853\n",
      "Q:18.232387256472617, current x:tensor([ 1.6939,  1.6531, -2.3469], dtype=torch.float64, requires_grad=True)\n",
      "0.5846304812029306\n",
      "-1.4470692530247913\n",
      "1.8624387718218607\n",
      "Q:32.83217715457861, current x:tensor([ 1.6937,  1.6532, -2.3470], dtype=torch.float64, requires_grad=True)\n",
      "0.9664139375605021\n",
      "-2.512522541175549\n",
      "2.5461086036150467\n",
      "Q:66.80398585921591, current x:tensor([ 1.6935,  1.6534, -2.3470], dtype=torch.float64, requires_grad=True)\n",
      "1.4952509539461232\n",
      "-2.0489635869954643\n",
      "1.5537126330493414\n",
      "Q:105.11349043197706, current x:tensor([ 1.6934,  1.6536, -2.3470], dtype=torch.float64, requires_grad=True)\n",
      "1.2712659576315144\n",
      "-2.6594755074290446\n",
      "2.38820954979753\n",
      "Q:169.35902668546268, current x:tensor([ 1.6932,  1.6538, -2.3470], dtype=torch.float64, requires_grad=True)\n",
      "1.7315691460575693\n",
      "-2.5070978274543343\n",
      "1.7755286813967652\n"
     ]
    }
   ],
   "source": [
    "import threading\n",
    "\n",
    "max_count_of_active_threads = 4\n",
    "\n",
    "def find_optimal_parameters_for_one_data_frame(index, solver_list, simulated_pcf, simulated_populations, results):\n",
    "  \"\"\"\n",
    "  Функция, вычисляющая и записывающая в словарь оптимальные параметры замыкания и прочую сопутствующую информацию для одного набора данных.\n",
    "  @param index: int -- индекс набора данных, для которого требуется провести расчёт.\n",
    "  @param solver_list: list(Neumann) -- список всех объектов для вычисления.\n",
    "  @param simulated_pcf: list(pandas.DataFrame) -- список всех наборов симулированных функций парной корреляции.\n",
    "  @param simulated_populations: list(float) -- список всех симулированных значений количеств особей.\n",
    "  @param results: dict -- словарь, куда требуется записать результаты расчётов.\n",
    "  \"\"\"\n",
    "  x, norms, optimal_N, optimal_C, l1_norm_value = solver_list[i].proj_grad()\n",
    "  results.update(\n",
    "    {\n",
    "      index: {\n",
    "        'alpha': x[0].item(),\n",
    "        'beta': x[1].item(),\n",
    "        'gamma': x[2].item(),\n",
    "        'relative_pcf_error': l1_norm_value / l1_norm(0., list(sims[i]['r'])[-1], torch.tensor(simulated_pcf[i]['pcf'])),\n",
    "        'relative_population_error': abs((optimal_N.item() - simulated_populations[i]) / simulated_populations[i]),\n",
    "        'optimal_C': optimal_C,\n",
    "        'pcf_norms_in_time': norms,\n",
    "      },\n",
    "    },\n",
    "  )\n",
    "\n",
    "simulated_populations = [\n",
    "  pd.read_csv(f'./in_data/simulations_results/population/{i}.csv')['pop'][-1:].item()\n",
    "  for i in range(1, count_of_data_frames + 1)\n",
    "]\n",
    "\n",
    "results_dict = {}\n",
    "current_count_of_active_threads = 0\n",
    "first_active_thread_index = 0\n",
    "threads_list = []\n",
    "for i in range(0, count_of_data_frames):\n",
    "  while current_count_of_active_threads > max_count_of_active_threads:\n",
    "    threads_list[first_active_thread_index].join()\n",
    "    current_count_of_active_threads -= 1\n",
    "    first_active_thread_index += 1\n",
    "  \n",
    "  threads_list.append(threading.Thread(target=find_optimal_parameters_for_one_data_frame, args=(i, solver_list, sims, simulated_populations, results_dict)))\n",
    "  threads_list[-1].start()\n",
    "  current_count_of_active_threads += 1\n",
    "for i in range(first_active_thread_index, count_of_data_frames):\n",
    "  threads_list[i].join()\n",
    "\n",
    "alphas = list()\n",
    "betas = list()\n",
    "gammas = list()\n",
    "norms_list = list()\n",
    "N_error_list = list()\n",
    "optimal_C_list = list()\n",
    "\n",
    "for i in range(0, count_of_data_frames):\n",
    "  result = results_dict[i]\n",
    "  alphas.append(result['alpha'])\n",
    "  betas.append(result['beta'])\n",
    "  gammas.append(result['gamma'])\n",
    "  norms_list.append(result['relative_pcf_error'])\n",
    "  N_error_list.append(result['relative_population_error'])\n",
    "  optimal_C_list.append(result['optimal_C'])\n",
    "\n",
    "data_frame = pd.DataFrame(\n",
    "  {\n",
    "    'id': list(range(1,len(alphas) + 1)),\n",
    "    'in_b': [sample['b'].item() for sample in initial_parameters],\n",
    "    'in_d': [sample['d'].item() for sample in initial_parameters],\n",
    "    'in_dd': [sample['dd'].item() for sample in initial_parameters],\n",
    "    'alpha': alphas,\n",
    "    'beta': betas,\n",
    "    'gamma': gammas,\n",
    "    'pop_error': N_error_list,\n",
    "    'pcf_error': norms_list,\n",
    "  },\n",
    ")\n",
    "data_frame.to_csv('./out_data/result.csv', index=False)"
   ]
  },
  {
   "cell_type": "code",
   "execution_count": 9,
   "id": "cosmetic-richmond",
   "metadata": {},
   "outputs": [],
   "source": [
    "for key, value in results_dict.items():\n",
    "  value['pcf_norms_in_time'] = np.array(value['pcf_norms_in_time'])\n",
    "  value['pcf_norms_in_time'].shape"
   ]
  },
  {
   "cell_type": "code",
   "execution_count": 10,
   "id": "universal-deputy",
   "metadata": {},
   "outputs": [],
   "source": [
    "%config InlineBackend.figure_format = 'retina'"
   ]
  },
  {
   "cell_type": "code",
   "execution_count": 11,
   "id": "minus-title",
   "metadata": {},
   "outputs": [],
   "source": [
    "def myplot(x, y, xlab, ylab, xscale=\"linear\", yscale=\"log\"):\n",
    "    plt.figure(figsize=(10, 8))\n",
    "    plt.xscale(xscale)\n",
    "    plt.yscale(yscale)\n",
    "    for key in y:\n",
    "        plt.semilogy(x[key], y[key], label=key)\n",
    "    plt.xticks(fontsize=24)\n",
    "    plt.yticks(fontsize=24)\n",
    "    plt.legend(loc=\"best\", fontsize=24)\n",
    "    plt.xlabel(xlab, fontsize=24)\n",
    "    plt.ylabel(ylab, fontsize=24)"
   ]
  },
  {
   "cell_type": "code",
   "execution_count": 12,
   "id": "wound-ticket",
   "metadata": {},
   "outputs": [
    {
     "ename": "TypeError",
     "evalue": "len() of unsized object",
     "output_type": "error",
     "traceback": [
      "\u001b[1;31m---------------------------------------------------------------------------\u001b[0m",
      "\u001b[1;31mTypeError\u001b[0m                                 Traceback (most recent call last)",
      "\u001b[1;32m~\\AppData\\Local\\Temp/ipykernel_9408/1274339103.py\u001b[0m in \u001b[0;36m<module>\u001b[1;34m\u001b[0m\n\u001b[0;32m      2\u001b[0m \u001b[0mget_ipython\u001b[0m\u001b[1;33m(\u001b[0m\u001b[1;33m)\u001b[0m\u001b[1;33m.\u001b[0m\u001b[0mrun_line_magic\u001b[0m\u001b[1;33m(\u001b[0m\u001b[1;34m'matplotlib'\u001b[0m\u001b[1;33m,\u001b[0m \u001b[1;34m'inline'\u001b[0m\u001b[1;33m)\u001b[0m\u001b[1;33m\u001b[0m\u001b[1;33m\u001b[0m\u001b[0m\n\u001b[0;32m      3\u001b[0m \u001b[0mplt\u001b[0m\u001b[1;33m.\u001b[0m\u001b[0mrc\u001b[0m\u001b[1;33m(\u001b[0m\u001b[1;34m\"text\"\u001b[0m\u001b[1;33m,\u001b[0m \u001b[0musetex\u001b[0m\u001b[1;33m=\u001b[0m\u001b[1;32mTrue\u001b[0m\u001b[1;33m)\u001b[0m\u001b[1;33m\u001b[0m\u001b[1;33m\u001b[0m\u001b[0m\n\u001b[1;32m----> 4\u001b[1;33m myplot({\"PG\": range(1, len(norms) + 1)},\n\u001b[0m\u001b[0;32m      5\u001b[0m        \u001b[1;33m{\u001b[0m\u001b[1;34m\"PG\"\u001b[0m\u001b[1;33m:\u001b[0m \u001b[0mnorms\u001b[0m\u001b[1;33m}\u001b[0m\u001b[1;33m,\u001b[0m \u001b[1;34m\"Number of iterations\"\u001b[0m\u001b[1;33m,\u001b[0m\u001b[1;33m\u001b[0m\u001b[1;33m\u001b[0m\u001b[0m\n\u001b[0;32m      6\u001b[0m        r\"Objective function $Q = \\|C - C_{sim}\\|^2_2$\")\n",
      "\u001b[1;31mTypeError\u001b[0m: len() of unsized object"
     ]
    }
   ],
   "source": [
    "index_of_data_set = 0\n",
    "norms = results_dict[index_of_data_set]['pcf_norms_in_time']\n",
    "relative_pcf_error = results_dict[index_of_data_set]['relative_pcf_error']\n",
    "\n",
    "%matplotlib inline\n",
    "plt.rc(\"text\", usetex=True)\n",
    "myplot({\"PG\": range(1, len(norms) + 1)},\n",
    "       {\"PG\": norms}, \"Number of iterations\",\n",
    "       r\"Objective function $Q = \\|C - C_{sim}\\|^2_2$\")\n",
    "print(f'Индекс набора данных: {index_of_data_set}')\n",
    "print(f\"Относительная погрешность, %: {relative_pcf_error * 100}\")"
   ]
  },
  {
   "cell_type": "code",
   "execution_count": 21,
   "id": "intimate-rolling",
   "metadata": {},
   "outputs": [
    {
     "data": {
      "text/plain": [
       "[<matplotlib.lines.Line2D at 0x1f744c90fd0>]"
      ]
     },
     "execution_count": 21,
     "metadata": {},
     "output_type": "execute_result"
    },
    {
     "data": {
      "image/png": "[encoded data removed]",
      "text/plain": [
       "<Figure size 432x288 with 1 Axes>"
      ]
     },
     "metadata": {
      "image/png": {
       "height": 247,
       "width": 368
      },
      "needs_background": "light"
     },
     "output_type": "display_data"
    }
   ],
   "source": [
    "index_of_data_set = 0\n",
    "optimal_C = optimal_C_list[index_of_data_set]\n",
    "plt.plot(np.linspace(0., 10., len(sims[index_of_data_set]['pcf'])), sims[index_of_data_set]['pcf'])\n",
    "plt.plot(np.linspace(0., 10., len(optimal_C)), optimal_C.detach().numpy())\n"
   ]
  },
  {
   "cell_type": "code",
   "execution_count": null,
   "id": "residential-enough",
   "metadata": {},
   "outputs": [],
   "source": []
  }
 ],
 "metadata": {
  "interpreter": {
   "hash": "d24d3044335273547fcd8f3a85a1b49dfa657084fcd1802d73b754ce7c183ef0"
  },
  "kernelspec": {
   "display_name": "Python 3.8.6 64-bit",
   "name": "python3"
  },
  "language_info": {
   "codemirror_mode": {
    "name": "ipython",
    "version": 3
   },
   "file_extension": ".py",
   "mimetype": "text/x-python",
   "name": "python",
   "nbconvert_exporter": "python",
   "pygments_lexer": "ipython3",
   "version": "3.8.6"
  }
 },
 "nbformat": 4,
 "nbformat_minor": 5
}
